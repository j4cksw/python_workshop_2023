{
 "cells": [
  {
   "cell_type": "code",
   "execution_count": 25,
   "metadata": {},
   "outputs": [
    {
     "data": {
      "text/plain": [
       "130.77570093457945"
      ]
     },
     "execution_count": 25,
     "metadata": {},
     "output_type": "execute_result"
    }
   ],
   "source": [
    "from IPython.core.interactiveshell import InteractiveShell\n",
    "InteractiveShell.ast_node_interactivity = \"all\"\n",
    "\n",
    "vat = 7\n",
    "100 * vat/(100+vat)\n",
    "500 * vat/(100+vat)\n",
    "1999 * vat/(100+vat)"
   ]
  },
  {
   "cell_type": "code",
   "execution_count": 26,
   "metadata": {},
   "outputs": [
    {
     "data": {
      "text/plain": [
       "6.542056074766355"
      ]
     },
     "execution_count": 26,
     "metadata": {},
     "output_type": "execute_result"
    },
    {
     "data": {
      "text/plain": [
       "32.71028037383178"
      ]
     },
     "execution_count": 26,
     "metadata": {},
     "output_type": "execute_result"
    },
    {
     "data": {
      "text/plain": [
       "130.77570093457945"
      ]
     },
     "execution_count": 26,
     "metadata": {},
     "output_type": "execute_result"
    }
   ],
   "source": [
    "def vat_exclude(price, vat):\n",
    "    return price * vat/(100+vat)\n",
    "\n",
    "vat_exclude(100, vat)\n",
    "vat_exclude(500, vat)\n",
    "vat_exclude(1999, vat)"
   ]
  },
  {
   "cell_type": "code",
   "execution_count": 27,
   "metadata": {},
   "outputs": [
    {
     "data": {
      "text/plain": [
       "6.542056074766355"
      ]
     },
     "execution_count": 27,
     "metadata": {},
     "output_type": "execute_result"
    },
    {
     "data": {
      "text/plain": [
       "32.71028037383178"
      ]
     },
     "execution_count": 27,
     "metadata": {},
     "output_type": "execute_result"
    },
    {
     "data": {
      "text/plain": [
       "130.77570093457945"
      ]
     },
     "execution_count": 27,
     "metadata": {},
     "output_type": "execute_result"
    }
   ],
   "source": [
    "class VatCalculator():\n",
    "    \n",
    "    def __init__(self, percentage):\n",
    "        self._percentage = percentage\n",
    "    \n",
    "    def exclude(self, price):\n",
    "        return price * self._percentage/(100 + self._percentage)\n",
    "\n",
    "vat_calculator = VatCalculator(7)    \n",
    "\n",
    "vat_calculator.exclude(100)\n",
    "vat_calculator.exclude(500)\n",
    "vat_calculator.exclude(1999)"
   ]
  },
  {
   "cell_type": "code",
   "execution_count": 28,
   "metadata": {},
   "outputs": [
    {
     "data": {
      "text/plain": [
       "32.71028037383178"
      ]
     },
     "execution_count": 28,
     "metadata": {},
     "output_type": "execute_result"
    },
    {
     "data": {
      "text/plain": [
       "98.13084112149532"
      ]
     },
     "execution_count": 28,
     "metadata": {},
     "output_type": "execute_result"
    },
    {
     "data": {
      "text/plain": [
       "130.84112149532712"
      ]
     },
     "execution_count": 28,
     "metadata": {},
     "output_type": "execute_result"
    }
   ],
   "source": [
    "price_list = [500, 1500, 2000]\n",
    "\n",
    "for price in price_list:\n",
    "    vat_calculator.exclude(price)"
   ]
  },
  {
   "cell_type": "code",
   "execution_count": 29,
   "metadata": {},
   "outputs": [
    {
     "data": {
      "text/plain": [
       "'Red label'"
      ]
     },
     "execution_count": 29,
     "metadata": {},
     "output_type": "execute_result"
    }
   ],
   "source": [
    "item = { \"title\": \"Red label\", \"price\": 500 }\n",
    "\n",
    "item[\"title\"]"
   ]
  },
  {
   "cell_type": "code",
   "execution_count": 30,
   "metadata": {},
   "outputs": [
    {
     "name": "stdout",
     "output_type": "stream",
     "text": [
      "Red label 500 32.71\n",
      "Black label 1500 98.13\n",
      "Blue label 2000 130.84\n",
      "total vat:  261.68\n"
     ]
    }
   ],
   "source": [
    "items = [\n",
    "    { \"title\": \"Red label\", \"price\": 500 },\n",
    "    { \"title\": \"Black label\", \"price\": 1500 },\n",
    "    { \"title\": \"Blue label\", \"price\": 2000 },\n",
    "]\n",
    "\n",
    "total_vat = 0\n",
    "\n",
    "for item in items:\n",
    "    total_vat += vat_calculator.exclude(item[\"price\"])\n",
    "    print(\"{title} {price} {vat:.2f}\"\n",
    "          .format(\n",
    "              title=item[\"title\"], \n",
    "              price=item[\"price\"],\n",
    "              vat=vat_calculator.exclude(item[\"price\"])))\n",
    "\n",
    "print(\"total vat: {total_vat: .2f}\".format(total_vat=total_vat))"
   ]
  },
  {
   "cell_type": "code",
   "execution_count": null,
   "metadata": {},
   "outputs": [],
   "source": []
  },
  {
   "cell_type": "code",
   "execution_count": 35,
   "metadata": {},
   "outputs": [
    {
     "name": "stdout",
     "output_type": "stream",
     "text": [
      "Red label 500 32.71\n",
      "Black label 1500 98.13\n",
      "Blue label 2000 130.84\n",
      "total vat: 261.68\n"
     ]
    }
   ],
   "source": [
    "items = (\n",
    "    { \"title\": \"Red label\", \"price\": 500 },\n",
    "    { \"title\": \"Black label\", \"price\": 1500 },\n",
    "    { \"title\": \"Blue label\", \"price\": 2000 },\n",
    ")\n",
    "\n",
    "vat_items = []\n",
    "\n",
    "for item in items:\n",
    "    vat_items.append({\n",
    "        \"title\": item[\"title\"],\n",
    "        \"price\": item[\"price\"],\n",
    "        \"vat\": vat_calculator.exclude(item[\"price\"])\n",
    "    })\n",
    "\n",
    "for vat_item in vat_items:\n",
    "    print(\"{title} {price} {vat:.2f}\"\n",
    "          .format(\n",
    "              title=vat_item[\"title\"], \n",
    "              price=vat_item[\"price\"],\n",
    "              vat=vat_item[\"vat\"]))\n",
    "    \n",
    "print(\"total vat: {total_vat:.2f}\".format(\n",
    "    total_vat=sum(vat_item[\"vat\"] for vat_item in vat_items)))\n"
   ]
  },
  {
   "cell_type": "code",
   "execution_count": 37,
   "metadata": {},
   "outputs": [
    {
     "name": "stdout",
     "output_type": "stream",
     "text": [
      "Red label 500 32.71\n",
      "Black label 1500 98.13\n",
      "Blue label 2000 130.84\n",
      "total vat: 261.68\n"
     ]
    }
   ],
   "source": [
    "items = (\n",
    "    { \"title\": \"Red label\", \"price\": 500 },\n",
    "    { \"title\": \"Black label\", \"price\": 1500 },\n",
    "    { \"title\": \"Blue label\", \"price\": 2000 },\n",
    ")\n",
    "\n",
    "vat_items = [{\n",
    "        \"title\": item[\"title\"],\n",
    "        \"price\": item[\"price\"],\n",
    "        \"vat\": vat_calculator.exclude(item[\"price\"])\n",
    "    } for item in items]\n",
    "\n",
    "for vat_item in vat_items:\n",
    "    print(\"{title} {price} {vat:.2f}\"\n",
    "          .format(\n",
    "              title=vat_item[\"title\"], \n",
    "              price=vat_item[\"price\"],\n",
    "              vat=vat_item[\"vat\"]))\n",
    "    \n",
    "print(\"total vat: {total_vat:.2f}\".format(\n",
    "    total_vat=sum(vat_item[\"vat\"] for vat_item in vat_items)))"
   ]
  },
  {
   "cell_type": "code",
   "execution_count": 39,
   "metadata": {},
   "outputs": [
    {
     "name": "stdout",
     "output_type": "stream",
     "text": [
      "Red label 500 32.71\n",
      "Black label 1500 98.13\n",
      "Blue label 2000 130.84\n",
      "total vat: 261.68\n"
     ]
    }
   ],
   "source": [
    "items = (\n",
    "    { \"title\": \"Red label\", \"price\": 500 },\n",
    "    { \"title\": \"Black label\", \"price\": 1500 },\n",
    "    { \"title\": \"Blue label\", \"price\": 2000 },\n",
    ")\n",
    "\n",
    "def make_vat_item(item):\n",
    "    return {\n",
    "        \"title\": item[\"title\"],\n",
    "        \"price\": item[\"price\"],\n",
    "        \"vat\": vat_calculator.exclude(item[\"price\"])\n",
    "    }\n",
    "\n",
    "vat_items = [make_vat_item(item) for item in items]\n",
    "total_vat = sum(vat_item[\"vat\"] for vat_item in vat_items)\n",
    "\n",
    "for vat_item in vat_items:\n",
    "    print(\"{title} {price} {vat:.2f}\"\n",
    "          .format(\n",
    "              title=vat_item[\"title\"], \n",
    "              price=vat_item[\"price\"],\n",
    "              vat=vat_item[\"vat\"]))\n",
    "    \n",
    "print(\"total vat: {total_vat:.2f}\"\n",
    "      .format(total_vat=total_vat))"
   ]
  },
  {
   "cell_type": "code",
   "execution_count": 43,
   "metadata": {},
   "outputs": [
    {
     "name": "stdout",
     "output_type": "stream",
     "text": [
      "\n",
      "Items\n",
      "    Red label 500 32.71\n",
      "Black label 1500 98.13\n",
      "Blue label 2000 130.84\n",
      "    total vat: 261.68\n",
      "\n"
     ]
    }
   ],
   "source": [
    "items = (\n",
    "    { \"title\": \"Red label\", \"price\": 500 },\n",
    "    { \"title\": \"Black label\", \"price\": 1500 },\n",
    "    { \"title\": \"Blue label\", \"price\": 2000 },\n",
    ")\n",
    "\n",
    "def make_vat_item(item):\n",
    "    return {\n",
    "        \"title\": item[\"title\"],\n",
    "        \"price\": item[\"price\"],\n",
    "        \"vat\": vat_calculator.exclude(item[\"price\"])\n",
    "    }\n",
    "\n",
    "vat_items = [make_vat_item(item) for item in items]\n",
    "total_vat = sum(vat_item[\"vat\"] for vat_item in vat_items)\n",
    "items_report = \"\\n\".join([\"{title} {price} {vat:.2f}\"\n",
    "          .format(\n",
    "              title=vat_item[\"title\"], \n",
    "              price=vat_item[\"price\"],\n",
    "              vat=vat_item[\"vat\"]) for vat_item in vat_items])\n",
    "total_vat_report = \"total vat: {total_vat:.2f}\".format(total_vat=total_vat)\n",
    "print(\"\"\"\n",
    "{items}\n",
    "{total_vat}\n",
    "\"\"\".format(items=items_report, total_vat=total_vat_report))"
   ]
  },
  {
   "cell_type": "code",
   "execution_count": 47,
   "metadata": {},
   "outputs": [
    {
     "name": "stdout",
     "output_type": "stream",
     "text": [
      "Stressful Python 3000 0.00\n",
      "Red label 500 32.71\n",
      "Black label 1500 98.13\n",
      "Blue label 2000 130.84\n",
      "total vat: 261.68\n"
     ]
    }
   ],
   "source": [
    "items = (\n",
    "    { \"title\": \"Stressful Python\", \"price\": 3000, \"type\": \"book\" },\n",
    "    { \"title\": \"Red label\", \"price\": 500 },\n",
    "    { \"title\": \"Black label\", \"price\": 1500 },\n",
    "    { \"title\": \"Blue label\", \"price\": 2000 },\n",
    ")\n",
    "\n",
    "def make_vat_item(item):\n",
    "    if item.get(\"type\", None) == \"book\":\n",
    "        return {\n",
    "            \"title\": item[\"title\"],\n",
    "            \"price\": item[\"price\"],\n",
    "            \"vat\": 0\n",
    "        }\n",
    "    return {\n",
    "        \"title\": item[\"title\"],\n",
    "        \"price\": item[\"price\"],\n",
    "        \"vat\": vat_calculator.exclude(item[\"price\"])\n",
    "    }\n",
    "\n",
    "vat_items = [make_vat_item(item) for item in items]\n",
    "total_vat = sum(vat_item[\"vat\"] for vat_item in vat_items)\n",
    "\n",
    "for vat_item in vat_items:\n",
    "    print(\"{title} {price} {vat:.2f}\"\n",
    "          .format(\n",
    "              title=vat_item[\"title\"], \n",
    "              price=vat_item[\"price\"],\n",
    "              vat=vat_item[\"vat\"]))\n",
    "    \n",
    "print(\"total vat: {total_vat:.2f}\"\n",
    "      .format(total_vat=total_vat))"
   ]
  },
  {
   "cell_type": "code",
   "execution_count": 48,
   "metadata": {},
   "outputs": [
    {
     "name": "stdout",
     "output_type": "stream",
     "text": [
      "Stressful Python 3000 0.00\n",
      "Red label 500 32.71\n",
      "Black label 1500 98.13\n",
      "Blue label 2000 130.84\n",
      "total vat: 261.68\n"
     ]
    }
   ],
   "source": [
    "items = (\n",
    "    { \"title\": \"Stressful Python\", \"price\": 3000, \"type\": \"book\" },\n",
    "    { \"title\": \"Red label\", \"price\": 500 },\n",
    "    { \"title\": \"Black label\", \"price\": 1500 },\n",
    "    { \"title\": \"Blue label\", \"price\": 2000 },\n",
    ")\n",
    "\n",
    "def make_vat_item(item):\n",
    "    try:\n",
    "        if item[\"type\"] == \"book\":\n",
    "            return {\n",
    "                \"title\": item[\"title\"],\n",
    "                \"price\": item[\"price\"],\n",
    "                \"vat\": 0\n",
    "            }\n",
    "    except KeyError:\n",
    "        return {\n",
    "            \"title\": item[\"title\"],\n",
    "            \"price\": item[\"price\"],\n",
    "            \"vat\": vat_calculator.exclude(item[\"price\"])\n",
    "        }\n",
    "\n",
    "vat_items = [make_vat_item(item) for item in items]\n",
    "total_vat = sum(vat_item[\"vat\"] for vat_item in vat_items)\n",
    "\n",
    "for vat_item in vat_items:\n",
    "    print(\"{title} {price} {vat:.2f}\"\n",
    "          .format(\n",
    "              title=vat_item[\"title\"], \n",
    "              price=vat_item[\"price\"],\n",
    "              vat=vat_item[\"vat\"]))\n",
    "    \n",
    "print(\"total vat: {total_vat:.2f}\"\n",
    "      .format(total_vat=total_vat))"
   ]
  },
  {
   "cell_type": "code",
   "execution_count": 53,
   "metadata": {},
   "outputs": [
    {
     "name": "stdout",
     "output_type": "stream",
     "text": [
      "Stressful Python 3000 196.26\n",
      "Hyper sonic pen 199 13.02\n",
      "Red label 500 32.71\n",
      "Black label 1500 98.13\n",
      "Blue label 2000 130.84\n",
      "total vat: 470.96\n"
     ]
    }
   ],
   "source": [
    "items = (\n",
    "    { \"title\": \"Stressful Python\", \"price\": 3000, \"type\": \"book\" },\n",
    "    { \"title\": \"Hyper sonic pen\", \"price\": 199, \"type\": \"stationary\" },\n",
    "    { \"title\": \"Red label\", \"price\": 500 },\n",
    "    { \"title\": \"Black label\", \"price\": 1500 },\n",
    "    { \"title\": \"Blue label\", \"price\": 2000 },\n",
    ")\n",
    "\n",
    "vat_whitelist = (\"book\", \"stationary\")\n",
    "\n",
    "def make_vat_item(item):\n",
    "    return {\n",
    "        \"title\": item[\"title\"],\n",
    "        \"price\": item[\"price\"],\n",
    "        \"vat\": 0 if item in vat_whitelist else vat_calculator.exclude(item[\"price\"])\n",
    "    }\n",
    "\n",
    "vat_items = [make_vat_item(item) for item in items]\n",
    "total_vat = sum(vat_item[\"vat\"] for vat_item in vat_items)\n",
    "\n",
    "for vat_item in vat_items:\n",
    "    print(\"{title} {price} {vat:.2f}\"\n",
    "          .format(\n",
    "              title=vat_item[\"title\"], \n",
    "              price=vat_item[\"price\"],\n",
    "              vat=vat_item[\"vat\"]))\n",
    "    \n",
    "print(\"total vat: {total_vat:.2f}\"\n",
    "      .format(total_vat=total_vat))"
   ]
  },
  {
   "cell_type": "code",
   "execution_count": 67,
   "metadata": {},
   "outputs": [
    {
     "data": {
      "text/plain": [
       "{'book', 'liquor', 'otop', 'stationary'}"
      ]
     },
     "execution_count": 67,
     "metadata": {},
     "output_type": "execute_result"
    },
    {
     "data": {
      "text/plain": [
       "set()"
      ]
     },
     "execution_count": 67,
     "metadata": {},
     "output_type": "execute_result"
    },
    {
     "data": {
      "text/plain": [
       "False"
      ]
     },
     "execution_count": 67,
     "metadata": {},
     "output_type": "execute_result"
    }
   ],
   "source": [
    "item = { \n",
    "    \"title\": \"Stray dog\", \n",
    "    \"price\": 990,\n",
    "    \"type\": {\"liquor\"}\n",
    "}\n",
    "\n",
    "vat_whitelist = {\"book\", \"stationary\", \"otop\"}\n",
    "\n",
    "vat_whitelist.union(item[\"type\"])\n",
    "vat_whitelist.intersection(item[\"type\"])\n",
    "bool(vat_whitelist.intersection(item[\"type\"]))"
   ]
  },
  {
   "cell_type": "code",
   "execution_count": 69,
   "metadata": {},
   "outputs": [
    {
     "name": "stdout",
     "output_type": "stream",
     "text": [
      "Stressful Python 3000 0.00\n",
      "Hyper sonic pen 199 0.00\n",
      "Stray dog 990 0.00\n",
      "Red label 500 32.71\n",
      "Black label 1500 98.13\n",
      "Blue label 2000 130.84\n",
      "total vat: 261.68\n"
     ]
    }
   ],
   "source": [
    "items = (\n",
    "    { \"title\": \"Stressful Python\", \"price\": 3000, \"type\": {\"book\"} },\n",
    "    { \"title\": \"Hyper sonic pen\", \"price\": 199, \"type\": {\"stationary\"} },\n",
    "    { \"title\": \"Stray dog\", \"price\": 990, \"type\": {\"liquor\", \"otop\"} },\n",
    "    { \"title\": \"Red label\", \"price\": 500, \"type\": {\"liquor\"} },\n",
    "    { \"title\": \"Black label\", \"price\": 1500, \"type\": {\"liquor\"} },\n",
    "    { \"title\": \"Blue label\", \"price\": 2000, \"type\": {\"liquor\"} },\n",
    ")\n",
    "\n",
    "vat_whitelist = {\"book\", \"stationary\", \"otop\"}\n",
    "\n",
    "def make_vat_item(item):\n",
    "    return {\n",
    "        \"title\": item[\"title\"],\n",
    "        \"price\": item[\"price\"],\n",
    "        \"vat\": 0 if vat_whitelist.intersection(item[\"type\"]) \n",
    "            else vat_calculator.exclude(item[\"price\"])\n",
    "    }\n",
    "\n",
    "vat_items = [make_vat_item(item) for item in items]\n",
    "total_vat = sum(vat_item[\"vat\"] for vat_item in vat_items)\n",
    "\n",
    "for vat_item in vat_items:\n",
    "    print(\"{title} {price} {vat:.2f}\"\n",
    "          .format(\n",
    "              title=vat_item[\"title\"], \n",
    "              price=vat_item[\"price\"],\n",
    "              vat=vat_item[\"vat\"]))\n",
    "    \n",
    "print(\"total vat: {total_vat:.2f}\"\n",
    "      .format(total_vat=total_vat))"
   ]
  }
 ],
 "metadata": {
  "kernelspec": {
   "display_name": "Python 3",
   "language": "python",
   "name": "python3"
  },
  "language_info": {
   "codemirror_mode": {
    "name": "ipython",
    "version": 3
   },
   "file_extension": ".py",
   "mimetype": "text/x-python",
   "name": "python",
   "nbconvert_exporter": "python",
   "pygments_lexer": "ipython3",
   "version": "3.11.3"
  },
  "orig_nbformat": 4
 },
 "nbformat": 4,
 "nbformat_minor": 2
}
